{
 "cells": [
  {
   "cell_type": "markdown",
   "id": "1567ce53",
   "metadata": {},
   "source": [
    "# Impute ATAC from RNA (Mouse brain dataset)"
   ]
  },
  {
   "cell_type": "markdown",
   "id": "410f32ea",
   "metadata": {},
   "source": [
    "In this notebook, we used SpaMosaic to impute the missing ATAC peak assays in a postnatal mouse brain dataset. The dataset consists of three sections, all measured with both RNA and ATAC profiles. We removed the ATAC profiles from the first section, trained SpaMosaic on the modified dataset, and then imputed the ATAC peak data for the first section based on RNA. \n",
    "\n",
    "Data used in this notebook can be downloaded from [google drive](https://drive.google.com/drive/folders/1GyOvHxweRYrq8Hiq5OdKhfSowUfcMoXY?usp=drive_link)."
   ]
  },
  {
   "cell_type": "code",
   "execution_count": 1,
   "id": "8c16b1ca",
   "metadata": {},
   "outputs": [],
   "source": [
    "import os\n",
    "import scanpy as sc\n",
    "import scipy.sparse as sps\n",
    "from os.path import join\n",
    "\n",
    "from spamosaic.framework import SpaMosaic\n",
    "\n",
    "os.environ['CUBLAS_WORKSPACE_CONFIG'] = ':4096:8'  # for CuBLAS operation and you have CUDA >= 10.2\n",
    "import spamosaic.utils as utls\n",
    "from spamosaic.preprocessing import RNA_preprocess, ADT_preprocess, Epigenome_preprocess"
   ]
  },
  {
   "cell_type": "code",
   "execution_count": 2,
   "id": "094fbb18",
   "metadata": {},
   "outputs": [],
   "source": [
    "ad1_rna  = sc.read_h5ad('./s1_adata_rna.h5ad')\n",
    "ad1_atac = sc.read_h5ad('./s1_adata_atac.h5ad')\n",
    "ad2_rna  = sc.read_h5ad('./s2_adata_rna.h5ad')\n",
    "ad2_atac = sc.read_h5ad('./s2_adata_atac.h5ad')\n",
    "ad3_rna  = sc.read_h5ad('./s3_adata_rna.h5ad')\n",
    "ad3_atac = sc.read_h5ad('./s3_adata_atac.h5ad')"
   ]
  },
  {
   "cell_type": "markdown",
   "id": "e0c7afdd",
   "metadata": {},
   "source": [
    "### 1st-fold cv (cross validation)"
   ]
  },
  {
   "cell_type": "markdown",
   "id": "b911cb7a",
   "metadata": {},
   "source": [
    "Similar to integration, SpaMosaic performs modality alignment first and then imputes the missing modality profiles based on the modal-aligned latent space. Also, SpaMosaic requires the input dataset in the following format:\n",
    "``` Python\n",
    "{\n",
    "    'rna':      [adata1_rna, adata2_rna,   None,         adata4_rna, ...],\n",
    "    'protein':  [adata1_adt, None,         adata3_adt,   None,       ...],\n",
    "    'atac':     [None,       adata2_atac,  None,         None,       ...],\n",
    "    'histone':  [None,       None      ,   adata3_hist,  None,       ...],\n",
    "    ...\n",
    "}\n",
    "```\n",
    "\n",
    "In the dictionary, each key represents a modality and each modality key corresponds to list of `anndata` objects. Each `anndata` object contains modality-specific information for a particular section. For example, the first object `adata1_rna` under the 'rna' key holds the RNA profiles for the first section, while the first object `adata1_adt` under the 'protein' key holds protein profiles for the same section. If a section is not measured for a particular modality, its value in the list is `None`. For instance, the first element under the 'atac' and 'histone' keys is `None`, indicating that the first section was not measured with ATAC or histone modality. All lists have the same length, which corresponds to the number of sections in the target dataset.\n",
    "\n",
    "\n",
    "SpaMosaic requires the modalities in a mosaic dataset to be directly or indirectly connected through one or multiple sections. If a pair of modalities occur in the same section, there is a direct connection between this pair of modalities, while an indirect connection requires multiple intermediary direct connections. \n",
    "\n",
    "SpaMosaic will automatically impute all the missing profiles in the input. "
   ]
  },
  {
   "cell_type": "code",
   "execution_count": 4,
   "id": "92e49fb4",
   "metadata": {},
   "outputs": [],
   "source": [
    "input_dict = {\n",
    "    'rna':  [ad1_rna, ad2_rna,  ad3_rna],\n",
    "    'atac': [None,    ad2_atac, ad3_atac]\n",
    "}\n",
    "\n",
    "input_key = 'dimred_bc'"
   ]
  },
  {
   "cell_type": "code",
   "execution_count": 5,
   "id": "675f90fb",
   "metadata": {},
   "outputs": [
    {
     "name": "stdout",
     "output_type": "stream",
     "text": [
      "Use GPU mode.\n",
      "\tInitialization is completed.\n",
      "\tCompleted 1 / 10 iteration(s).\n",
      "\tCompleted 2 / 10 iteration(s).\n",
      "\tCompleted 3 / 10 iteration(s).\n",
      "Reach convergence after 3 iteration(s).\n",
      "Use GPU mode.\n",
      "\tInitialization is completed.\n",
      "\tCompleted 1 / 10 iteration(s).\n",
      "\tCompleted 2 / 10 iteration(s).\n",
      "\tCompleted 3 / 10 iteration(s).\n",
      "\tCompleted 4 / 10 iteration(s).\n",
      "Reach convergence after 4 iteration(s).\n"
     ]
    }
   ],
   "source": [
    "RNA_preprocess(input_dict['rna'], batch_corr=True, n_hvg=5000, batch_key='src', key=input_key)\n",
    "hvp_name, hvp_idx = Epigenome_preprocess(input_dict['atac'], batch_corr=True, n_peak=50000, batch_key='src', key=input_key, return_hvf=True)"
   ]
  },
  {
   "cell_type": "markdown",
   "id": "bcb295a8",
   "metadata": {},
   "source": [
    "### training"
   ]
  },
  {
   "cell_type": "markdown",
   "id": "66bdd7a2",
   "metadata": {},
   "source": [
    "SpaMosaic employs modality-specific graph neural networks to embed each modality's input into latent space. In horizontal integration, all sections have only one modality, thus each section has only one set of embeddings. \n",
    "\n",
    "The crucial parameters include:\n",
    "- `intra_knns`: how many nearest neighbors to consider when searching for spatial neighbors within each section (list or integer)\n",
    "- `inter_knn_base`: how many nearest neighbors to consider when searching for mutual nearest neighbors between sections (integer)\n",
    "- `w_g`: the weight for spatial-adjacency graph\n",
    "\n",
    "The following parameters are recommended to use in complex integration scenarios, like varying resolution or size across sections\n",
    "- `smooth_input`: whethere to smooth the input representations (bool)\n",
    "- `smooth_L`: number of LGCN layers for smoothing input\n",
    "- `inter_auto_knn`: whether to automatically balance the kNN during MNN searching (bool)\n",
    "- `rmv_outlier`: whether to remove outlier of MNN (bool)\n",
    "- `contamination`: percentage of removed MNN outlier\n",
    "\n",
    "for training:\n",
    "- `net`: which graph neural network to use (only support wlgcn now)\n",
    "- `lr`: learning rate\n",
    "- `n_epochs`: number of training epochs\n",
    "- `w_rec_g`: the loss weight for reconstructing original graph structure. If the target dataset contains protein modality, we recommend a low value for w_rec_g (e.g., 0); if it contains epigenome modality, we recommend a high value for w_rec_g (e.g., 1)."
   ]
  },
  {
   "cell_type": "code",
   "execution_count": 6,
   "id": "926f4b59",
   "metadata": {
    "scrolled": true
   },
   "outputs": [
    {
     "name": "stdout",
     "output_type": "stream",
     "text": [
      "batch0: ['rna']\n",
      "batch1: ['rna', 'atac']\n",
      "batch2: ['rna', 'atac']\n",
      "------Calculating spatial graph...\n",
      "The graph contains 23720 edges, 2372 cells.\n",
      "10.0000 neighbors per cell on average.\n",
      "------Calculating spatial graph...\n",
      "The graph contains 24970 edges, 2497 cells.\n",
      "10.0000 neighbors per cell on average.\n",
      "------Calculating spatial graph...\n",
      "The graph contains 92150 edges, 9215 cells.\n",
      "10.0000 neighbors per cell on average.\n",
      "------Calculating spatial graph...\n",
      "The graph contains 24970 edges, 2497 cells.\n",
      "10.0000 neighbors per cell on average.\n",
      "------Calculating spatial graph...\n",
      "The graph contains 92150 edges, 9215 cells.\n",
      "10.0000 neighbors per cell on average.\n",
      "Searching MNN within rna\n",
      "Finding MNN between (s2, s3) using KNN (10, 10)\n",
      "Finding MNN between (s2, s1) using KNN (10, 10)\n",
      "Finding MNN between (s3, s1) using KNN (10, 10)\n",
      "Number of mnn pairs for rna:15799\n",
      "Searching MNN within atac\n",
      "Finding MNN between (s2, s3) using KNN (10, 10)\n",
      "Number of mnn pairs for atac:10190\n"
     ]
    },
    {
     "name": "stderr",
     "output_type": "stream",
     "text": [
      "100%|███████████████████████████████████████████████████████████████████████████████████| 100/100 [00:05<00:00, 19.85it/s]\n"
     ]
    }
   ],
   "source": [
    "model = SpaMosaic(\n",
    "    modBatch_dict=input_dict, input_key=input_key,\n",
    "    batch_key='src', intra_knns=10, inter_knn_base=10, w_g=0.8, \n",
    "    seed=1234, \n",
    "    device='cuda:0'\n",
    ")\n",
    "\n",
    "model.train(net='wlgcn', lr=0.01, T=0.01, n_epochs=100)"
   ]
  },
  {
   "cell_type": "markdown",
   "id": "89009c7c",
   "metadata": {},
   "source": [
    "### inference\n",
    "\n",
    "After training, SpaMosaic can infer the modality-specific embedding for each section. These embeddings will be directly saved in original `anndata` objects. For example, the RNA-specific embeddings can be accessed by `ad1_rna.obsm['emb']`, `ad2_rna.obsm['emb']`, ... . The ATAC-specific embeddings can be accessed by `ad2_atac.obsm['emb']`, `ad3_atac.obsm['emb']`."
   ]
  },
  {
   "cell_type": "code",
   "execution_count": 7,
   "id": "8dea11cf",
   "metadata": {},
   "outputs": [],
   "source": [
    "ad_embs = model.infer_emb(input_dict, emb_key='emb', final_latent_key='merged_emb')"
   ]
  },
  {
   "cell_type": "markdown",
   "id": "bf431903",
   "metadata": {},
   "source": [
    "### imputation"
   ]
  },
  {
   "cell_type": "markdown",
   "id": "5c84b07c",
   "metadata": {},
   "source": [
    "SpaMosaic employs a kNN-based strategy for imputation. One of its key advantages is that, after obtaining the modality-aligned latent space, SpaMosaic can directly impute multiple types of assays—such as peak counts, gene activity scores (GAS), and chromatin silence scores (CSS)—without the need to train multiple regression models.\n",
    "\n",
    "Since SpaMosaic performs imputation by aggregating the measured profiles from other sections, we need to specify the reference assays in the `.layers` for each reference anndata object. For example, we aim to impute the missing peak assays for the first section and then we set the `.layers['counts']` as the raw peak counts data for `ad2_atac` and `ad3_atac`. If to impute the GAS, we need to transform the peak counts into GAS first for the sections 2 and 3, and set the `.layers['counts']` in `ad2_atac` and `ad3_atac` as corresponding GAS data. Note that even though RNA imputation is not required in this notebook, it is still necessary to specify the `.layers['counts']` for each rna anndata object. "
   ]
  },
  {
   "cell_type": "code",
   "execution_count": 8,
   "id": "8430c5ea",
   "metadata": {},
   "outputs": [],
   "source": [
    "for mod, ads in input_dict.items():\n",
    "    for ad in ads:\n",
    "        if ad is not None:\n",
    "            ad.layers['counts'] = ad.X.copy()  # set targeting layers"
   ]
  },
  {
   "cell_type": "code",
   "execution_count": 9,
   "id": "dafa6530",
   "metadata": {},
   "outputs": [
    {
     "name": "stdout",
     "output_type": "stream",
     "text": [
      "impute atac-counts for batch-1\n"
     ]
    }
   ],
   "source": [
    "imputed_featureDict = model.impute(input_dict, emb_key='emb', layer_key='counts', imp_knn=10)\n",
    "\n",
    "# format of imputed_featureDict\n",
    "# {\n",
    "#     'rna':  [None, None, None],\n",
    "#     'atac': [array, None, None]\n",
    "# }"
   ]
  }
 ],
 "metadata": {
  "kernelspec": {
   "display_name": "Python 3 (ipykernel)",
   "language": "python",
   "name": "python3"
  },
  "language_info": {
   "codemirror_mode": {
    "name": "ipython",
    "version": 3
   },
   "file_extension": ".py",
   "mimetype": "text/x-python",
   "name": "python",
   "nbconvert_exporter": "python",
   "pygments_lexer": "ipython3",
   "version": "3.8.13"
  }
 },
 "nbformat": 4,
 "nbformat_minor": 5
}
